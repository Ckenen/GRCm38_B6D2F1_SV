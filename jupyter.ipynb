{
 "cells": [
  {
   "cell_type": "code",
   "execution_count": 14,
   "id": "93afd73c",
   "metadata": {
    "ExecuteTime": {
     "end_time": "2024-03-04T00:46:25.840496Z",
     "start_time": "2024-03-04T00:46:25.830849Z"
    }
   },
   "outputs": [],
   "source": [
    "import re\n",
    "import glob\n",
    "from collections import OrderedDict, defaultdict\n",
    "import matplotlib.pyplot as plt\n",
    "import pysam\n",
    "from pyBioInfo.Range import GRange\n",
    "from pyBioInfo.IO.File import GffFile, BedFile\n",
    "from pyBioInfo.Utils import ShiftLoader"
   ]
  },
  {
   "cell_type": "markdown",
   "id": "9eb13d37",
   "metadata": {
    "heading_collapsed": true
   },
   "source": [
    "# SimpleRepeats and LowComplexity from RepeatMasker"
   ]
  },
  {
   "cell_type": "code",
   "execution_count": 3,
   "id": "65ae3cab",
   "metadata": {
    "ExecuteTime": {
     "end_time": "2024-03-04T00:31:39.816719Z",
     "start_time": "2024-03-04T00:28:50.519530Z"
    },
    "hidden": true
   },
   "outputs": [],
   "source": [
    "def load_rmsk(path):\n",
    "    array = []\n",
    "    with GffFile(path) as f:\n",
    "        for x in f:\n",
    "            if re.match(\"^chr([0-9]+|[XY])$\", x.chrom):\n",
    "                array.append(x)\n",
    "    return array\n",
    "rmsk = load_rmsk(\"/home/chenzonggui/species/RepeatMasker/mm10.rmsk.gff.gz\")"
   ]
  },
  {
   "cell_type": "code",
   "execution_count": 5,
   "id": "ed5cc1e3",
   "metadata": {
    "ExecuteTime": {
     "end_time": "2024-03-04T00:33:32.276542Z",
     "start_time": "2024-03-04T00:32:50.448076Z"
    },
    "hidden": true
   },
   "outputs": [],
   "source": [
    "! mkdir -p stratifications\n",
    "\n",
    "with open(\"stratifications/GRCm38_SimpleRepeats.bed\", \"w+\") as fw:\n",
    "    for x in rmsk:\n",
    "        name = x.attributes[\"Name\"]\n",
    "        name = name[name.find(\"_\") + 1:]\n",
    "        if \"Simple_repeat\" in name:\n",
    "            fw.write(\"\\t\".join(map(str, [x.chrom, x.start, x.end, name])) + \"\\n\")\n",
    "\n",
    "with open(\"stratifications/GRCm38_SimpleRepeats_gt200bp.bed\", \"w+\") as fw:\n",
    "    for x in rmsk:\n",
    "        name = x.attributes[\"Name\"]\n",
    "        name = name[name.find(\"_\") + 1:]\n",
    "        if \"Simple_repeat\" in name and len(x) > 200:\n",
    "            fw.write(\"\\t\".join(map(str, [x.chrom, x.start, x.end, name])) + \"\\n\")\n",
    "            \n",
    "with open(\"stratifications/GRCm38_SimpleRepeats_gt500bp.bed\", \"w+\") as fw:\n",
    "    for x in rmsk:\n",
    "        name = x.attributes[\"Name\"]\n",
    "        name = name[name.find(\"_\") + 1:]\n",
    "        if \"Simple_repeat\" in name and len(x) > 500:\n",
    "            fw.write(\"\\t\".join(map(str, [x.chrom, x.start, x.end, name])) + \"\\n\")\n",
    "            \n",
    "with open(\"stratifications/GRCm38_LowComplexity.bed\", \"w+\") as fw:\n",
    "    for x in rmsk:\n",
    "        name = x.attributes[\"Name\"]\n",
    "        name = name[name.find(\"_\") + 1:]\n",
    "        if \"Low_complexity\" in name:\n",
    "            fw.write(\"\\t\".join(map(str, [x.chrom, x.start, x.end, name])) + \"\\n\")\n",
    "\n",
    "with open(\"stratifications/GRCm38_LowComplexity_gt200bp.bed\", \"w+\") as fw:\n",
    "    for x in rmsk:\n",
    "        name = x.attributes[\"Name\"]\n",
    "        name = name[name.find(\"_\") + 1:]\n",
    "        if \"Low_complexity\" in name and len(x) > 200:\n",
    "            fw.write(\"\\t\".join(map(str, [x.chrom, x.start, x.end, name])) + \"\\n\")\n",
    "            \n",
    "with open(\"stratifications/GRCm38_LowComplexity_gt500bp.bed\", \"w+\") as fw:\n",
    "    for x in rmsk:\n",
    "        name = x.attributes[\"Name\"]\n",
    "        name = name[name.find(\"_\") + 1:]\n",
    "        if \"Low_complexity\" in name and len(x) > 500:\n",
    "            fw.write(\"\\t\".join(map(str, [x.chrom, x.start, x.end, name])) + \"\\n\")"
   ]
  },
  {
   "cell_type": "markdown",
   "id": "5eabf462",
   "metadata": {
    "heading_collapsed": true
   },
   "source": [
    "# TandemRepeats"
   ]
  },
  {
   "cell_type": "code",
   "execution_count": 6,
   "id": "29f85ad5",
   "metadata": {
    "ExecuteTime": {
     "end_time": "2024-03-04T00:33:43.306297Z",
     "start_time": "2024-03-04T00:33:42.147201Z"
    },
    "hidden": true
   },
   "outputs": [],
   "source": [
    "! awk '$3-$2>500' GRCm38_DBA_ONT/GRCm38.tandemRepeats.bed > stratifications/GRCm38_TandemRepeats_gt500bp.bed"
   ]
  },
  {
   "cell_type": "markdown",
   "id": "9b5eaed8",
   "metadata": {},
   "source": [
    "# Processing Sniffles2 structure variants"
   ]
  },
  {
   "cell_type": "code",
   "execution_count": 10,
   "id": "2fdea6c3",
   "metadata": {
    "ExecuteTime": {
     "end_time": "2024-03-04T00:39:48.573134Z",
     "start_time": "2024-03-04T00:39:19.900249Z"
    },
    "code_folding": [],
    "scrolled": true
   },
   "outputs": [],
   "source": [
    "infile = \"GRCm38_DBA_ONT/GRCm38_DBA_ONT.sniffles2.filtered.vcf.gz\"\n",
    "outfile = \"GRCm38_C57DBA_SV_benchmark_callsets.vcf\"\n",
    "records_lt50bp = []\n",
    "records_gt10000bp = []\n",
    "records_failed = []\n",
    "records_imprecise = []\n",
    "records_cluster = []\n",
    "svs = [] # SVLEN >= 50\n",
    "\n",
    "with pysam.VariantFile(infile) as f, open(outfile, \"w+\") as fw:\n",
    "    for line in str(f.header).strip(\"\\n\").split(\"\\n\"):\n",
    "        if line.startswith(\"##\"):\n",
    "            fw.write(line + \"\\n\")\n",
    "        else:\n",
    "            fw.write('##FORMAT=<ID=IGT,Number=1,Type=String,Description=\"Original input genotype\">\\n')\n",
    "            fw.write('##FORMAT=<ID=IPS,Number=1,Type=String,Description=\"Phase set for IGT\">\\n')\n",
    "            fw.write('##FORMAT=<ID=PS,Number=1,Type=String,Description=\"Phase set for GT\">\\n')\n",
    "            fw.write(\"#CHROM\\tPOS\\tID\\tREF\\tALT\\tQUAL\\tFILTER\\tINFO\\tFORMAT\\tC57DBA\\n\")\n",
    "            \n",
    "    for i, record in enumerate(f):\n",
    "        if i >= 1000:\n",
    "            pass\n",
    "            # break\n",
    "        svtype = record.info[\"SVTYPE\"]\n",
    "        assert svtype == \"DEL\" or svtype == \"INS\"\n",
    "        \n",
    "        svlen = abs(record.info[\"SVLEN\"])\n",
    "        \n",
    "        row = str(record).strip(\"\\n\").split(\"\\t\")\n",
    "        d = OrderedDict()\n",
    "        for k, v in zip(row[8].split(\":\"), row[9].split(\":\")):\n",
    "            d[k] = v\n",
    "        d[\"IGT\"] = d[\"GT\"]\n",
    "                \n",
    "        FS = row[6].split(\";\")\n",
    "        # gq = int(d[\"GQ\"])\n",
    "        dr = int(d[\"DR\"])\n",
    "        dv = int(d[\"DV\"])\n",
    "        cov = dr + dv\n",
    "        af = record.info[\"AF\"]\n",
    "        if FS[0] == \"PASS\":\n",
    "            FS = []\n",
    "            if svlen >= 50:\n",
    "                if svlen > 10000:\n",
    "                    records_gt10000bp.append(record)\n",
    "                if d[\"GT\"] == \"1/1\":\n",
    "                    d[\"GT\"] = \"0|1\"\n",
    "                    d[\"PS\"] = \"0\"\n",
    "                    if af < 0.9:\n",
    "                        records_failed.append(record)\n",
    "                        FS.append(\"GT\")\n",
    "                    if record.info[\"IMPRECISE\"]:\n",
    "                        records_imprecise.append(record)\n",
    "                else:\n",
    "                    records_failed.append(record)\n",
    "                    FS.append(\"GT\")\n",
    "                if cov < 15:\n",
    "                    records_failed.append(record)\n",
    "                    FS.append(\"COV_MIN\")\n",
    "            else:\n",
    "                records_lt50bp.append(record)\n",
    "                FS.append(\"SVLEN_MIN\")\n",
    "                if d[\"GT\"] == \"1/1\":\n",
    "                    d[\"GT\"] = \"0|1\"\n",
    "                    d[\"PS\"] = \"0\"\n",
    "                else:\n",
    "                    FS.append(\"GT\")\n",
    "                if cov < 15:\n",
    "                    FS.append(\"COV_MIN\")\n",
    "        else:\n",
    "            if svlen >= 50:\n",
    "                records_failed.append(record)\n",
    "            else:\n",
    "                records_lt50bp.append(record)\n",
    "                FS.append(\"SVLEN_MIN\")\n",
    "                \n",
    "        if svlen >= 50:\n",
    "            sv = GRange(chrom=record.chrom, start=record.start, end=record.stop)\n",
    "            sv.record = record\n",
    "            svs.append(sv)\n",
    "            \n",
    "        if len(FS) == 0:\n",
    "            FS = [\"PASS\"]\n",
    "        row[6] = \";\".join(sorted(set(FS)))\n",
    "        row[8] = \":\".join(d.keys())\n",
    "        row[9] = \":\".join(d.values())\n",
    "        line = \"\\t\".join(map(str, row))\n",
    "        fw.write(line + \"\\n\")\n",
    "        \n",
    "svs.sort()\n",
    "loader = ShiftLoader(svs)\n",
    "for sv in svs:\n",
    "    for sv2 in loader.fetch(chrom=sv.chrom, start=sv.start - 1000, end=sv.end + 1000):\n",
    "        if sv2 is sv:\n",
    "            continue\n",
    "        records_cluster.append(sv.record)\n",
    "        break\n",
    "        \n",
    "! bgzip -f {outfile}\n",
    "! tabix -f -p vcf {outfile}.gz"
   ]
  },
  {
   "cell_type": "code",
   "execution_count": 11,
   "id": "d00298f2",
   "metadata": {
    "ExecuteTime": {
     "end_time": "2024-03-04T00:39:48.590268Z",
     "start_time": "2024-03-04T00:39:48.578762Z"
    }
   },
   "outputs": [
    {
     "name": "stdout",
     "output_type": "stream",
     "text": [
      "SVs shorter than 50bp: 101446\n",
      "SVs longer than 10kb: 171\n",
      "SVs filter: 15818\n",
      "SVs imprecise: 6770\n",
      "SVs in cluster: 17846\n"
     ]
    }
   ],
   "source": [
    "print(\"SVs shorter than 50bp:\", len(records_lt50bp))\n",
    "print(\"SVs longer than 10kb:\", len(records_gt10000bp))\n",
    "print(\"SVs filter:\", len(records_failed))\n",
    "print(\"SVs imprecise:\", len(records_imprecise))\n",
    "print(\"SVs in cluster:\", len(records_cluster))"
   ]
  },
  {
   "cell_type": "code",
   "execution_count": 12,
   "id": "c30ec984",
   "metadata": {
    "ExecuteTime": {
     "end_time": "2024-03-04T00:41:55.259173Z",
     "start_time": "2024-03-04T00:41:50.509097Z"
    }
   },
   "outputs": [],
   "source": [
    "sizes = \"/home/chenzonggui/species/mus_musculus/GRCm38.p6/GRCm38.canonical.genome.sizes\"\n",
    "\n",
    "outfile1 = \"stratifications/GRCm38_C57DBA_SV_lt50bp.bed\"\n",
    "outfile2 = \"stratifications/GRCm38_C57DBA_SV_lt50bp_slop100bp.bed\"\n",
    "with open(outfile1, \"w+\") as fw:\n",
    "    for x in records_lt50bp:\n",
    "        fw.write(\"\\t\".join(map(str, [x.chrom, x.start, x.stop])) + \"\\n\")\n",
    "! bedtools slop -i {outfile1} -g {sizes} -b 100 > {outfile2}\n",
    "\n",
    "outfile1 = \"stratifications/GRCm38_C57DBA_SV_gt10000bp.bed\"\n",
    "outfile2 = \"stratifications/GRCm38_C57DBA_SV_gt10000bp_slop1000bp.bed\"\n",
    "with open(outfile1, \"w+\") as fw:\n",
    "    for x in records_gt10000bp:\n",
    "        fw.write(\"\\t\".join(map(str, [x.chrom, x.start, x.stop])) + \"\\n\")\n",
    "! bedtools slop -i {outfile1} -g {sizes} -b 1000 > {outfile2}\n",
    "\n",
    "outfile1 = \"stratifications/GRCm38_C57DBA_SV_failed.bed\"\n",
    "outfile2 = \"stratifications/GRCm38_C57DBA_SV_failed_slop1000bp.bed\"\n",
    "with open(outfile1, \"w+\") as fw:\n",
    "    for x in records_failed:\n",
    "        fw.write(\"\\t\".join(map(str, [x.chrom, x.start, x.stop])) + \"\\n\")\n",
    "! bedtools slop -i {outfile1} -g {sizes} -b 1000 > {outfile2}\n",
    "\n",
    "outfile1 = \"stratifications/GRCm38_C57DBA_SV_imprecise.bed\"\n",
    "outfile2 = \"stratifications/GRCm38_C57DBA_SV_imprecise_slop1000bp.bed\"\n",
    "with open(outfile1, \"w+\") as fw:\n",
    "    for x in records_imprecise:\n",
    "        fw.write(\"\\t\".join(map(str, [x.chrom, x.start, x.stop])) + \"\\n\")\n",
    "! bedtools slop -i {outfile1} -g {sizes} -b 1000 > {outfile2}\n",
    "\n",
    "outfile1 = \"stratifications/GRCm38_C57DBA_SV_cluster.bed\"\n",
    "outfile2 = \"stratifications/GRCm38_C57DBA_SV_cluster_slop1000bp.bed\"\n",
    "with open(outfile1, \"w+\") as fw:\n",
    "    for x in records_cluster:\n",
    "        fw.write(\"\\t\".join(map(str, [x.chrom, x.start, x.stop])) + \"\\n\")\n",
    "! bedtools slop -i {outfile1} -g {sizes} -b 1000 > {outfile2}"
   ]
  },
  {
   "cell_type": "code",
   "execution_count": 15,
   "id": "5e162c36",
   "metadata": {
    "ExecuteTime": {
     "end_time": "2024-03-04T00:47:50.931712Z",
     "start_time": "2024-03-04T00:47:00.657571Z"
    }
   },
   "outputs": [],
   "source": [
    "for path in glob.glob(\"stratifications/*.bed\"):\n",
    "    ! sort -k1,1 -k2,2n {path} | bedtools merge -d 100 -i - | bgzip -c > {path}.gz\n",
    "    ! tabix -f -p bed {path}.gz\n",
    "    ! rm {path}"
   ]
  },
  {
   "cell_type": "code",
   "execution_count": 16,
   "id": "1d6e3ad6",
   "metadata": {
    "ExecuteTime": {
     "end_time": "2024-03-04T00:50:17.620652Z",
     "start_time": "2024-03-04T00:50:11.103368Z"
    }
   },
   "outputs": [],
   "source": [
    "! zcat \\\n",
    "    stratifications/GRCm38_C57DBA_SV_cluster_slop1000bp.bed.gz \\\n",
    "    stratifications/GRCm38_C57DBA_SV_lt50bp_slop100bp.bed.gz \\\n",
    "    stratifications/GRCm38_C57DBA_SV_gt10000bp_slop1000bp.bed.gz \\\n",
    "    stratifications/GRCm38_C57DBA_SV_failed_slop1000bp.bed.gz \\\n",
    "    stratifications/GRCm38_C57DBA_SV_imprecise_slop1000bp.bed.gz \\\n",
    "    stratifications/GRCm38_TandemRepeats_gt500bp.bed.gz \\\n",
    "    stratifications/GRCm38_LowComplexity_gt500bp.bed.gz \\\n",
    "    stratifications/GRCm38_SimpleRepeats_gt500bp.bed.gz \\\n",
    "    | cut -f1-3 | sort -k1,1 -k2,2n | bedtools merge -d 100 -i - \\\n",
    "    | sort -k1,1 -k2,2n > GRCm38_C57DBA_SV_benchmark_blacklist.bed\n",
    "! bgzip -f -c GRCm38_C57DBA_SV_benchmark_blacklist.bed > GRCm38_C57DBA_SV_benchmark_blacklist.bed.gz\n",
    "! tabix -f -p bed GRCm38_C57DBA_SV_benchmark_blacklist.bed.gz"
   ]
  },
  {
   "cell_type": "markdown",
   "id": "1903bb4f",
   "metadata": {
    "ExecuteTime": {
     "end_time": "2024-03-01T07:00:30.839711Z",
     "start_time": "2024-03-01T07:00:29.577406Z"
    }
   },
   "source": [
    "# High-confident structure variants"
   ]
  },
  {
   "cell_type": "code",
   "execution_count": 18,
   "id": "b3e403db",
   "metadata": {
    "ExecuteTime": {
     "end_time": "2024-03-04T00:52:20.431560Z",
     "start_time": "2024-03-04T00:52:11.013418Z"
    }
   },
   "outputs": [
    {
     "name": "stdout",
     "output_type": "stream",
     "text": [
      "Blacklist regions: 122963\n",
      "Total SVs: 52071\n",
      "Filtered SVs: 34828\n"
     ]
    }
   ],
   "source": [
    "with BedFile(\"GRCm38_C57DBA_SV_benchmark_blacklist.bed.gz\") as f:\n",
    "    regions = [x for x in f]\n",
    "print(\"Blacklist regions:\", len(regions))\n",
    "    \n",
    "svs = []\n",
    "with pysam.VariantFile(\"GRCm38_C57DBA_SV_benchmark_callsets.vcf.gz\") as f:\n",
    "    for x in f:\n",
    "        svlen = abs(x.info[\"SVLEN\"])\n",
    "        if list(x.filter)[0] == \"PASS\" and svlen >= 50:\n",
    "            sv = GRange(chrom=x.chrom, start=x.start, end=x.stop)\n",
    "            sv.record = x\n",
    "            svs.append(sv)\n",
    "svs.sort()\n",
    "print(\"Total SVs:\", len(svs))\n",
    "\n",
    "loader = ShiftLoader(regions)\n",
    "tmp = []\n",
    "for sv in svs:\n",
    "    if len(list(loader.fetch(obj=sv))) == 0:\n",
    "        tmp.append(sv)\n",
    "svs1 = tmp\n",
    "print(\"Filtered SVs:\", len(svs1))"
   ]
  },
  {
   "cell_type": "code",
   "execution_count": 19,
   "id": "c933c74a",
   "metadata": {
    "ExecuteTime": {
     "end_time": "2024-03-04T00:52:33.797667Z",
     "start_time": "2024-03-04T00:52:33.633518Z"
    }
   },
   "outputs": [
    {
     "name": "stdout",
     "output_type": "stream",
     "text": [
      "Number of deletion: 17171\n",
      "Number of insertion: 17657\n"
     ]
    }
   ],
   "source": [
    "counter = defaultdict(int)\n",
    "for sv in svs1:\n",
    "    counter[sv.record.info[\"SVTYPE\"]] += 1\n",
    "print(\"Number of deletion:\", counter[\"DEL\"])\n",
    "print(\"Number of insertion:\", counter[\"INS\"])"
   ]
  },
  {
   "cell_type": "code",
   "execution_count": 22,
   "id": "e285e895",
   "metadata": {
    "ExecuteTime": {
     "end_time": "2024-03-04T00:53:13.316127Z",
     "start_time": "2024-03-04T00:53:12.926120Z"
    }
   },
   "outputs": [
    {
     "name": "stdout",
     "output_type": "stream",
     "text": [
      "Number\tSVTYPE\tGT\tPS\n",
      "------------------------------\n",
      "17171\tDEL\t(0, 1)\t0\n",
      "17657\tINS\t(0, 1)\t0\n"
     ]
    }
   ],
   "source": [
    "counter = defaultdict(int)\n",
    "for sv in svs1:\n",
    "    svtype = sv.record.info[\"SVTYPE\"]\n",
    "    gt = sv.record.samples[\"C57DBA\"][\"GT\"]\n",
    "    ps = sv.record.samples[\"C57DBA\"][\"PS\"]\n",
    "    counter[(svtype, gt, ps)] += 1\n",
    "print(\"Number\\tSVTYPE\\tGT\\tPS\")\n",
    "print(\"-\" * 30)\n",
    "for k, v in sorted(counter.items()):\n",
    "    print(v, *k, sep=\"\\t\")"
   ]
  },
  {
   "cell_type": "code",
   "execution_count": 20,
   "id": "1b120ef6",
   "metadata": {
    "ExecuteTime": {
     "end_time": "2024-03-04T00:52:49.255598Z",
     "start_time": "2024-03-04T00:52:47.357821Z"
    }
   },
   "outputs": [
    {
     "data": {
      "image/png": "[encoded data removed]",
      "text/plain": [
       "<Figure size 576x288 with 2 Axes>"
      ]
     },
     "metadata": {
      "needs_background": "light"
     },
     "output_type": "display_data"
    }
   ],
   "source": [
    "vs1 = []\n",
    "vs2 = []\n",
    "for sv in svs1:\n",
    "    if sv.record.info[\"SVTYPE\"] == \"DEL\":\n",
    "        vs1.append(abs(sv.record.info[\"SVLEN\"]))\n",
    "    else:\n",
    "        vs2.append(abs(sv.record.info[\"SVLEN\"]))\n",
    "        \n",
    "fig, axs = plt.subplots(2, 1, figsize=(8, 4), sharex=True, sharey=True)\n",
    "\n",
    "plt.sca(axs[0])\n",
    "plt.hist(vs1, range=(0, 10000), bins=100, edgecolor=\"black\")\n",
    "plt.ylabel(\"Number of deletion\")\n",
    "\n",
    "plt.sca(axs[1])\n",
    "plt.hist(vs2, range=(0, 10000), bins=100, edgecolor=\"black\")\n",
    "plt.ylabel(\"Number of insertion\")\n",
    "plt.xlabel(\"Length of structure variant\")\n",
    "\n",
    "plt.xlim(0, 10000)\n",
    "\n",
    "plt.tight_layout()\n",
    "plt.show()\n",
    "plt.close()"
   ]
  }
 ],
 "metadata": {
  "kernelspec": {
   "display_name": "Python 3",
   "language": "python",
   "name": "python3"
  },
  "language_info": {
   "codemirror_mode": {
    "name": "ipython",
    "version": 3
   },
   "file_extension": ".py",
   "mimetype": "text/x-python",
   "name": "python",
   "nbconvert_exporter": "python",
   "pygments_lexer": "ipython3",
   "version": "3.6.15"
  }
 },
 "nbformat": 4,
 "nbformat_minor": 5
}
